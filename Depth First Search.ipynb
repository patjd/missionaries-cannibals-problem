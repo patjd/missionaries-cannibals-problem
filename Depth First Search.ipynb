{
 "cells": [
  {
   "cell_type": "code",
   "execution_count": 1,
   "metadata": {},
   "outputs": [],
   "source": [
    "class State(object):\n",
    "    \"\"\" Boat=1 means boat is on the left side and Boat=0 means boat is on the right side\"\"\"\n",
    "    def __init__(self, missionaries, cannibals, boat, by_move):\n",
    "        self.missionaries = missionaries\n",
    "        self.cannibals = cannibals\n",
    "        self.boat = boat\n",
    "        self.by_move = by_move\n",
    "        \n",
    "    def __str__(self):\n",
    "        return \"%s, %s %s %s\" %(self.by_move, self.missionaries, self.cannibals, self.boat)\n",
    "        \n",
    "    def __eq__(self, other):\n",
    "        return self.__str__() == other.__str__()\n",
    "    \n",
    "    def __hash__(self):\n",
    "        return hash(self.__str__())\n",
    "\n",
    "    def is_valid(self):\n",
    "        if self.missionaries < 0 or self.missionaries > 3:\n",
    "            return False\n",
    "        if self.cannibals < 0 or self.cannibals > 3:\n",
    "            return False\n",
    "        if self.boat > 1 or self.boat < 0:\n",
    "            return False\n",
    "        if self.missionaries < self.cannibals and self.missionaries > 0:\n",
    "            return False\n",
    "        if self.missionaries > self.cannibals and self.missionaries < 3:\n",
    "            return False\n",
    "\n",
    "        return True\n",
    "        \n",
    "    def is_goal(self):\n",
    "        return self.missionaries == 0 and self.cannibals == 0 and self.boat == 0\n",
    "\n",
    "    def new_states(self):\n",
    "        op = -1 # Subtract\n",
    "        boat_move = \"from left bank to right\"\n",
    "        if self.boat == 0:\n",
    "            op = 1 # Add\n",
    "            boat_move = \"from right bank to left\"\n",
    "\n",
    "        for x in range(3):\n",
    "            for y in range(3):\n",
    "                by_move = \"Move %s missionaries and %s cannibals %s\" %(x, y, boat_move)\n",
    "                new_state = State(self.missionaries + op*x, self.cannibals + op*y, self.boat + op*1, by_move)\n",
    "                if x+y >= 1 and x+y <= 2 and new_state.is_valid():\n",
    "                    yield new_state"
   ]
  },
  {
   "cell_type": "code",
   "execution_count": 2,
   "metadata": {},
   "outputs": [],
   "source": [
    "class Node(object):\n",
    "    def __init__(self, parent, state, depth):\n",
    "        self.parent = parent\n",
    "        self.state = state\n",
    "        self.depth = depth\n",
    "\n",
    "    def __str__(self):\n",
    "        return self.state.__str__()\n",
    "    \n",
    "    def __eq__(self, other):\n",
    "        return self.__str__() == other.__str__()\n",
    "    \n",
    "    def __hash__(self):\n",
    "        return hash(self.__str__())\n",
    "\n",
    "    def childrens(self):\n",
    "        for state in self.state.new_states():\n",
    "            yield Node(parent=self, state=state, depth=self.depth+1)\n",
    "\n",
    "    def extract_solution(self):\n",
    "        solution = []\n",
    "        node = self\n",
    "        solution.append(node)\n",
    "        while node.parent is not None:\n",
    "            solution.append(node.parent)\n",
    "            node = node.parent\n",
    "        solution.reverse()\n",
    "        return solution"
   ]
  },
  {
   "cell_type": "code",
   "execution_count": 3,
   "metadata": {},
   "outputs": [],
   "source": [
    "def dfs(node):\n",
    "    duplicates = []\n",
    "    stack = [ node ]\n",
    "    while len(stack) != 0:\n",
    "        current = stack.pop()\n",
    "        if str(current) in duplicates:\n",
    "            continue\n",
    "        duplicates.append(str(current))\n",
    "        \n",
    "        if current.state.is_goal():\n",
    "            return current.extract_solution()\n",
    "        for child in current.childrens(): \n",
    "            stack.append(child) "
   ]
  },
  {
   "cell_type": "code",
   "execution_count": 4,
   "metadata": {},
   "outputs": [
    {
     "name": "stdout",
     "output_type": "stream",
     "text": [
      "Initial State, 3 3 1\n",
      "Move 1 missionaries and 1 cannibals from left bank to right, 2 2 0\n",
      "Move 1 missionaries and 1 cannibals from right bank to left, 3 3 1\n",
      "Move 0 missionaries and 2 cannibals from left bank to right, 3 1 0\n",
      "Move 0 missionaries and 1 cannibals from right bank to left, 3 2 1\n",
      "Move 1 missionaries and 0 cannibals from left bank to right, 2 2 0\n",
      "Move 1 missionaries and 0 cannibals from right bank to left, 3 2 1\n",
      "Move 0 missionaries and 2 cannibals from left bank to right, 3 0 0\n",
      "Move 0 missionaries and 1 cannibals from right bank to left, 3 1 1\n",
      "Move 2 missionaries and 0 cannibals from left bank to right, 1 1 0\n",
      "Move 1 missionaries and 1 cannibals from right bank to left, 2 2 1\n",
      "Move 2 missionaries and 0 cannibals from left bank to right, 0 2 0\n",
      "Move 0 missionaries and 1 cannibals from right bank to left, 0 3 1\n",
      "Move 0 missionaries and 2 cannibals from left bank to right, 0 1 0\n",
      "Move 1 missionaries and 0 cannibals from right bank to left, 1 1 1\n",
      "Move 1 missionaries and 1 cannibals from left bank to right, 0 0 0\n"
     ]
    }
   ],
   "source": [
    "initial_state = State(3, 3, 1, \"Initial State\")\n",
    "root = Node(parent=None, state=initial_state, depth=0)\n",
    "for state in dfs(root):\n",
    "    print(state)"
   ]
  },
  {
   "cell_type": "code",
   "execution_count": null,
   "metadata": {},
   "outputs": [],
   "source": []
  }
 ],
 "metadata": {
  "kernelspec": {
   "display_name": "Python 3",
   "language": "python",
   "name": "python3"
  },
  "language_info": {
   "codemirror_mode": {
    "name": "ipython",
    "version": 3
   },
   "file_extension": ".py",
   "mimetype": "text/x-python",
   "name": "python",
   "nbconvert_exporter": "python",
   "pygments_lexer": "ipython3",
   "version": "3.7.1"
  }
 },
 "nbformat": 4,
 "nbformat_minor": 2
}
